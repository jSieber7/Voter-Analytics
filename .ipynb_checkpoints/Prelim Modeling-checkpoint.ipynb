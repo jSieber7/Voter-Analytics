{
 "cells": [
  {
   "cell_type": "markdown",
   "metadata": {},
   "source": [
    "# GSS Data Analysis: Preliminary Modeling"
   ]
  },
  {
   "cell_type": "markdown",
   "metadata": {},
   "source": [
    "## Cleaning the data\n",
    "\n",
    "The data currently comes in an all numeric format, making visuals and understanding the data difficult. Additionaly, all NAs seem like actual values. Cleaning the data is the first step in analysis."
   ]
  },
  {
   "cell_type": "markdown",
   "metadata": {},
   "source": [
    "### Step One: Converting the data to and from Strings\n",
    "\n",
    "We can use the metadata included with the data download to easily remap strings to numbers and back."
   ]
  },
  {
   "cell_type": "code",
   "execution_count": 1,
   "metadata": {},
   "outputs": [],
   "source": [
    "import numpy as np\n",
    "import pandas as pd"
   ]
  },
  {
   "cell_type": "code",
   "execution_count": 44,
   "metadata": {},
   "outputs": [],
   "source": [
    "import sklearn_pandas"
   ]
  },
  {
   "cell_type": "code",
   "execution_count": 2,
   "metadata": {},
   "outputs": [],
   "source": [
    "# Loading in the data\n",
    "\n",
    "df = pd.read_csv('data/GSS.csv')"
   ]
  },
  {
   "cell_type": "code",
   "execution_count": 3,
   "metadata": {},
   "outputs": [],
   "source": [
    "# Using the meta data as a tool for converting the numeric values of the df into strings and then back\n",
    "\n",
    "df_remap  = pd.read_excel('data/GSS_metadata.xlsx',sheet_name='Codes')\n",
    "df_remap = df_remap.iloc[:,1:]\n",
    "df_remap = df_remap.fillna(method='ffill')\n",
    "df_remap['Variable Name'] = df_remap['Variable Name'].str.upper()"
   ]
  },
  {
   "cell_type": "code",
   "execution_count": 4,
   "metadata": {},
   "outputs": [],
   "source": [
    "# This dataframe will help turn the strings back into numbers\n",
    "# This will help speed up recoding ordinal values for machine learning\n",
    "\n",
    "df_remap_reverse = df_remap[['Variable Name','Label','Code']]"
   ]
  },
  {
   "cell_type": "code",
   "execution_count": 5,
   "metadata": {},
   "outputs": [],
   "source": [
    "def recur_dictify(frame):\n",
    "    '''Recursive function to turn the meta data dataframe into a dictionary for remapping values'''\n",
    "    \n",
    "    # Base Case\n",
    "    if len(frame.columns) == 1:\n",
    "        if frame.values.size == 1: return frame.values[0][0]\n",
    "        return frame.values.squeeze()\n",
    "    \n",
    "    # Recursive Case\n",
    "    grouped = frame.groupby(frame.columns[0])\n",
    "    dictionary = {name: recur_dictify(group.iloc[:,1:]) for name,group in grouped}\n",
    "    return dictionary"
   ]
  },
  {
   "cell_type": "code",
   "execution_count": 6,
   "metadata": {},
   "outputs": [],
   "source": [
    "remaper = recur_dictify(df_remap)\n",
    "remaper_reverse = recur_dictify(df_remap_reverse)"
   ]
  },
  {
   "cell_type": "code",
   "execution_count": 177,
   "metadata": {},
   "outputs": [],
   "source": [
    "# Converts the numbers to strings and drops NAs\n",
    "\n",
    "df_strings = df.replace(remaper)\n",
    "df_strings = df_strings.replace([\"No answer\",\"Don't know\",\"Not applicable\",\"-1\"],np.NaN)\n",
    "df_strings.to_csv('data/data_strings.csv', index=False)\n",
    "df_strings = pd.read_csv('data/data_strings.csv', low_memory=False)"
   ]
  },
  {
   "cell_type": "code",
   "execution_count": 8,
   "metadata": {},
   "outputs": [],
   "source": [
    "# We must be more specific to convert strings back into numbers\n",
    "# This is because the pandas 'replace' function fails for the 'remaper_reverse' dictionary\n",
    "\n",
    "df = df_strings\n",
    "for key in remaper_reverse.keys():\n",
    "    df[key] = df_strings[key].map(remaper_reverse[key]).fillna(df_strings[key])\n",
    "\n",
    "df = df[list(df_strings.columns)]\n",
    "df.to_csv('data/data_clean.csv', index=False)"
   ]
  },
  {
   "cell_type": "markdown",
   "metadata": {},
   "source": [
    "### Aside: Quick Graphs\n",
    "Quick graphs to test out matplotlib"
   ]
  },
  {
   "cell_type": "code",
   "execution_count": 384,
   "metadata": {},
   "outputs": [],
   "source": [
    "import matplotlib.pyplot as plt\n",
    "import matplotlib.ticker as mtick\n",
    "%matplotlib inline"
   ]
  },
  {
   "cell_type": "code",
   "execution_count": 385,
   "metadata": {},
   "outputs": [],
   "source": [
    "df_strings = pd.read_csv('data/data_strings.csv', low_memory=False)"
   ]
  },
  {
   "cell_type": "code",
   "execution_count": 386,
   "metadata": {},
   "outputs": [
    {
     "data": {
      "image/png": "[encoded data removed]",
      "text/plain": [
       "<matplotlib.figure.Figure at 0x1db577268d0>"
      ]
     },
     "metadata": {},
     "output_type": "display_data"
    }
   ],
   "source": [
    "x = df_strings['HOMOSEX'].value_counts().index\n",
    "y = df_strings['HOMOSEX'].value_counts().values\n",
    "fig, ax = plt.subplots()\n",
    "ax.barh(x,y)\n",
    "plt.show()"
   ]
  },
  {
   "cell_type": "code",
   "execution_count": 387,
   "metadata": {},
   "outputs": [],
   "source": [
    "df_graph = df_strings\n",
    "df_graph['Before2000'] = ['Before 2000' if x < 2000 else '2000 and after' for x in df['YEAR']]\n",
    "df_graph_bar = df_graph.groupby(['HOMOSEX','Before2000']).size() #.reset_index(name='counts')"
   ]
  },
  {
   "cell_type": "code",
   "execution_count": 388,
   "metadata": {},
   "outputs": [],
   "source": [
    "df_graph_bar = df_graph_bar.groupby(level=1) \\\n",
    ".apply(lambda x:100 * x / float(x.sum())) \\\n",
    ".reset_index(name='proportion')"
   ]
  },
  {
   "cell_type": "code",
   "execution_count": 389,
   "metadata": {},
   "outputs": [],
   "source": [
    "df_graph_bar = df_graph_bar.pivot(index='HOMOSEX', columns='Before2000', values='proportion')"
   ]
  },
  {
   "cell_type": "code",
   "execution_count": 394,
   "metadata": {},
   "outputs": [
    {
     "data": {
      "image/png": "[encoded data removed]",
      "text/plain": [
       "<matplotlib.figure.Figure at 0x1db5ad51e48>"
      ]
     },
     "metadata": {},
     "output_type": "display_data"
    }
   ],
   "source": [
    "ax = df_graph_bar.plot(kind='barh')\n",
    "\n",
    "fmt = '%.0f%%' # Format you want the ticks, e.g. '40%'\n",
    "xticks = mtick.FormatStrFormatter(fmt)\n",
    "ax.xaxis.set_major_formatter(xticks)\n",
    "plt.title('Opinions of Same-Sex Marriage',\n",
    "         fontdict = {'fontsize' : 20})\n",
    "plt.legend(title= 'Time Period')\n",
    "\n",
    "plt.show()"
   ]
  },
  {
   "cell_type": "code",
   "execution_count": null,
   "metadata": {},
   "outputs": [],
   "source": []
  },
  {
   "cell_type": "markdown",
   "metadata": {},
   "source": [
    "### Step Two: Ordinals and Categoricals\n",
    "\n",
    "In order to work use machine learning models, we have to dummy encode categoricals and keep ordinal values as numbers. Recoding the columns can be mostly automated, as most variables are ordinal. The implementation is done through sklearn pipelines with custom functions."
   ]
  },
  {
   "cell_type": "markdown",
   "metadata": {},
   "source": [
    "__**Current Assumptions**__\n",
    "\n",
    "* Ordinals are scaled, assumed to be continous. This is assumption seems reasonable given most of our ordinal columns have even steps inbetween levels.\n",
    "\n",
    "__**Special Cases**__\n",
    "\n",
    "* helpful,fair,trust,age - 3 to 2\n",
    "* Premarsx, teensex, xmarsex, homosex, bible - 'other' trouble\n",
    "    * 'other' appears to not be entered within the data after 2000\n",
    "* Nominal attributes under 11 - spjewaj, sprel?, relig16?, denom16?, relig?, parborn, race, sector, dipged, pawrkslf, spwrksta, marital, wrkstat, region\n",
    "    * presidental - i.e. vote12,pres12,if12who,...\n",
    "* tax - R pays none<vol.>/4\n",
    "    * 'R pays none<vol.>/4' appears to not be entered within the data after 2000\n",
    "* ordinal w/ large amount of categories - rincom06,rincome,income"
   ]
  },
  {
   "cell_type": "code",
   "execution_count": 411,
   "metadata": {},
   "outputs": [
    {
     "name": "stdout",
     "output_type": "stream",
     "text": [
      "1\n",
      "13\n",
      "13\n",
      "27\n",
      "13\n",
      "9\n",
      "3\n",
      "9\n",
      "4\n",
      "2\n",
      "8\n",
      "5\n",
      "8\n",
      "9\n"
     ]
    }
   ],
   "source": [
    "print(df.SPJEWAJ.nunique())\n",
    "print(df.SPREL.nunique()) # Safe (i.e over 11)\n",
    "print(df.RELIG16.nunique()) # Safe \n",
    "print(df.DENOM16.nunique()) # Safe\n",
    "print(df.RELIG.nunique()) # Safe\n",
    "print(df.PARBORN.nunique())\n",
    "print(df.RACE.nunique())\n",
    "print(df.SECTOR.nunique())\n",
    "print(df.DIPGED.nunique())\n",
    "print(df.PAWRKSLF.nunique())\n",
    "print(df.SPWRKSTA.nunique())\n",
    "print(df.MARITAL.nunique())\n",
    "print(df.WRKSTAT.nunique())\n",
    "print(df.REGION.nunique())"
   ]
  },
  {
   "cell_type": "code",
   "execution_count": null,
   "metadata": {},
   "outputs": [],
   "source": [
    "# We operate under the tested assumption that unless specified or over 11 distinct values,\n",
    "# the column is ordinal.\n",
    "\n",
    "df_columns = df\n",
    "Continuous = [\"YEAR\",\"HRS1\",\"HRS2\",\"AGEWED\",\"SPHRS1\",\"SIBS\",\"CHILDS\",\"AGE\",\"WHENHS\",\"WHENCOL\",\"PARBORN\"\n",
    "             ,\"HOMPOP\",\"CHLDIDEL\",\"COHORT\",\"BABIES\",\"PRETEEN\",\"TEENS\",\"TVHOURS\",'WEEKSWRK']\n",
    "Small_Categorical = [\"REGION\",\"WRKSTAT\",\"MARITAL\",'']\n",
    "df_columns.drop(Continuous,axis=1)\n"
   ]
  },
  {
   "cell_type": "code",
   "execution_count": null,
   "metadata": {},
   "outputs": [],
   "source": []
  },
  {
   "cell_type": "code",
   "execution_count": 18,
   "metadata": {},
   "outputs": [
    {
     "data": {
      "text/plain": [
       "(62466, 246)"
      ]
     },
     "execution_count": 18,
     "metadata": {},
     "output_type": "execute_result"
    }
   ],
   "source": [
    "df = pd.read_csv('data/data_clean.csv', low_memory = False)\n",
    "df.shape"
   ]
  },
  {
   "cell_type": "code",
   "execution_count": 23,
   "metadata": {},
   "outputs": [],
   "source": [
    "df_filtered = df[df.YEAR >= 2000]"
   ]
  },
  {
   "cell_type": "code",
   "execution_count": 35,
   "metadata": {},
   "outputs": [],
   "source": [
    "df_filtered2 = df_filtered.dropna(subset=['CONJUDGE'])"
   ]
  },
  {
   "cell_type": "code",
   "execution_count": 36,
   "metadata": {},
   "outputs": [
    {
     "data": {
      "text/plain": [
       "(12936, 246)"
      ]
     },
     "execution_count": 36,
     "metadata": {},
     "output_type": "execute_result"
    }
   ],
   "source": [
    "df_filtered2.shape"
   ]
  },
  {
   "cell_type": "code",
   "execution_count": null,
   "metadata": {},
   "outputs": [],
   "source": [
    "df.in"
   ]
  },
  {
   "cell_type": "code",
   "execution_count": 25,
   "metadata": {},
   "outputs": [],
   "source": [
    "# df_filtered"
   ]
  },
  {
   "cell_type": "code",
   "execution_count": 10,
   "metadata": {},
   "outputs": [
    {
     "data": {
      "text/plain": [
       "SPJEWAJ        1\n",
       "XMOVIE         2\n",
       "GRASS          2\n",
       "ABNOMORE       2\n",
       "ABDEFECT       2\n",
       "ABRAPE         2\n",
       "ABSINGLE       2\n",
       "RICHWORK       2\n",
       "POSTLIFE       2\n",
       "ABANY          2\n",
       "PARTFULL       2\n",
       "ABHLTH         2\n",
       "LETDIE1        2\n",
       "SUICIDE1       2\n",
       "SUICIDE2       2\n",
       "GUNLAW         2\n",
       "SUICIDE3       2\n",
       "CAPPUN         2\n",
       "LIBHOMO        2\n",
       "SPKATH         2\n",
       "COLATH         2\n",
       "LIBATH         2\n",
       "SPKRAC         2\n",
       "COLRAC         2\n",
       "LIBRAC         2\n",
       "LIBMSLM        2\n",
       "SPKCOM         2\n",
       "LIBCOM         2\n",
       "SPKMIL         2\n",
       "COLMIL         2\n",
       "            ... \n",
       "HOMPOP        16\n",
       "EDUC          21\n",
       "TVHOURS       24\n",
       "RINCOM06      26\n",
       "SPDEN         27\n",
       "DENOM         27\n",
       "DENOM16       27\n",
       "YEAR          31\n",
       "SIBS          40\n",
       "WEEKSWRK      53\n",
       "AGEWED        57\n",
       "HRS2          60\n",
       "AGE           72\n",
       "MAJOR2        73\n",
       "WHENCOL       74\n",
       "WHENHS        78\n",
       "MAJOR1        81\n",
       "SPHRS1        88\n",
       "HRS1          90\n",
       "OTHLANG2     100\n",
       "COHORT       116\n",
       "OTHLANG1     119\n",
       "SPOTHER      130\n",
       "OTH16        139\n",
       "OTHER        172\n",
       "PAIND80      230\n",
       "INDUS10      271\n",
       "DATEINTV     350\n",
       "OCC10        530\n",
       "ID_         4510\n",
       "Length: 246, dtype: int64"
      ]
     },
     "execution_count": 10,
     "metadata": {},
     "output_type": "execute_result"
    }
   ],
   "source": [
    "# df.info(verbose=True)\n",
    "df.nunique().sort_values()\n",
    "# df.nunique()"
   ]
  },
  {
   "cell_type": "code",
   "execution_count": 43,
   "metadata": {},
   "outputs": [
    {
     "data": {
      "text/plain": [
       "YEAR            0\n",
       "CONJUDGE        0\n",
       "ATTEND          0\n",
       "FUND            0\n",
       "REGION          0\n",
       "HOMPOP          0\n",
       "RACE            0\n",
       "SEX             0\n",
       "CHILDS          0\n",
       "FUND16          0\n",
       "BALLOT          0\n",
       "ID_             0\n",
       "MARITAL         4\n",
       "WRKSTAT         8\n",
       "BORN           11\n",
       "RES16          14\n",
       "DATEINTV       15\n",
       "DEGREE         19\n",
       "EDUC           23\n",
       "SATFIN         25\n",
       "SIBS           27\n",
       "PHONE          31\n",
       "PARBORN        36\n",
       "TRUST          37\n",
       "HELPFUL        39\n",
       "COHORT         40\n",
       "CONMEDIC       41\n",
       "FINALTER       41\n",
       "AGE            41\n",
       "CONEDUC        45\n",
       "XMOVIE         53\n",
       "RELIG          59\n",
       "COMPREND       60\n",
       "HAPPY          60\n",
       "CONFINAN       64\n",
       "COOP           66\n",
       "CLASS_         70\n",
       "RELIG16        73\n",
       "FAIR           74\n",
       "CONARMY        92\n",
       "PARTYID        92\n",
       "PORNLAW        94\n",
       "CONPRESS       98\n",
       "CONTV         100\n",
       "AGED          103\n",
       "TEENS         110\n",
       "BABIES        113\n",
       "PRETEEN       114\n",
       "WEEKSWRK      118\n",
       "FINRELA       119\n",
       "CONLEGIS      126\n",
       "EQWLTH        128\n",
       "CONFED        160\n",
       "PARSOL        172\n",
       "POLATTAK      196\n",
       "CONBUS        211\n",
       "NATPARK       246\n",
       "KIDSSOL       282\n",
       "POLABUSE      285\n",
       "HELPSICK      295\n",
       "CONCLERG      301\n",
       "POLMURDR      312\n",
       "HELPPOOR      320\n",
       "RELITEN       321\n",
       "NATROAD       326\n",
       "HELPBLK       414\n",
       "CONSCI        436\n",
       "HELPNOT       451\n",
       "POLVIEWS      454\n",
       "NATSOC        531\n",
       "INCOME        538\n",
       "CONLABOR      545\n",
       "WRKSLF        568\n",
       "RACLIVE       596\n",
       "OCC10         620\n",
       "POLESCAP      622\n",
       "INDUS10       639\n",
       "BIBLE         654\n",
       "WRKGOVT       706\n",
       "CAPPUN        768\n",
       "NATMASS       792\n",
       "NATCHLD       866\n",
       "GRASS         904\n",
       "PRAY          995\n",
       "COURTS       1064\n",
       "HELPOTH      1088\n",
       "OBEY         1088\n",
       "WORKHARD     1088\n",
       "THNKSELF     1088\n",
       "POPULAR      1088\n",
       "POLHITOK     1241\n",
       "POSTLIFE     1850\n",
       "PAWRKSLF     2480\n",
       "OTHLANG      2756\n",
       "REBORN       2798\n",
       "GOD          2865\n",
       "PADEG        3022\n",
       "SATJOB       3223\n",
       "NATSCI       3250\n",
       "SPRTPRSN     3547\n",
       "SAVESOUL     3548\n",
       "RELPERSN     3551\n",
       "PARTFULL     3763\n",
       "RINCOME      4575\n",
       "HRS1         5119\n",
       "DENOM16      5865\n",
       "DIVORCE      5957\n",
       "HEALTH       6074\n",
       "RANK         6272\n",
       "DENOM        6295\n",
       "CHLDIDEL     6435\n",
       "NEWS         6438\n",
       "FEPOL        6443\n",
       "SOCFREND     6445\n",
       "SOCOMMUN     6446\n",
       "SOCBAR       6448\n",
       "SOCREL       6448\n",
       "TVHOURS      6451\n",
       "MEOVRWRK     6452\n",
       "NATEDUCY     6479\n",
       "TEENSEX      6495\n",
       "SPANKING     6501\n",
       "SUICIDE2     6505\n",
       "HUNT         6506\n",
       "FEPRESCH     6508\n",
       "OWNGUN       6509\n",
       "WRKWAYUP     6511\n",
       "FEFAM        6518\n",
       "SUICIDE3     6525\n",
       "FEAR         6532\n",
       "DISCAFF      6532\n",
       "RIFLE        6534\n",
       "PISTOL       6534\n",
       "SHOTGUN      6534\n",
       "SEXEDUC      6538\n",
       "GETAHEAD     6541\n",
       "SPKATH       6555\n",
       "NATCRIMY     6558\n",
       "LIFE         6564\n",
       "PREMARSX     6568\n",
       "CLOSEBLK     6569\n",
       "PAIND80      6570\n",
       "NATFAREY     6570\n",
       "RACDIF2      6571\n",
       "SUICIDE4     6576\n",
       "NATEDUC      6580\n",
       "CLOSEWHT     6584\n",
       "NATHEALY     6586\n",
       "SPKMIL       6590\n",
       "SPKRAC       6591\n",
       "GUNLAW       6594\n",
       "SPKHOMO      6595\n",
       "XMARSEX      6596\n",
       "RACDIF3      6607\n",
       "LIBHOMO      6607\n",
       "NATAIDY      6614\n",
       "LIBATH       6614\n",
       "LIBMIL       6619\n",
       "NATENVIY     6626\n",
       "COLHOMO      6626\n",
       "LIBRAC       6632\n",
       "SPKCOM       6641\n",
       "NATHEAL      6646\n",
       "SUICIDE1     6649\n",
       "COLRAC       6654\n",
       "LIBCOM       6658\n",
       "TAX          6658\n",
       "NATENVIR     6660\n",
       "NATARMSY     6662\n",
       "RACDIF1      6669\n",
       "COLATH       6675\n",
       "COLMIL       6677\n",
       "NATCRIME     6684\n",
       "NATARMS      6695\n",
       "NATFARE      6708\n",
       "ABSINGLE     6727\n",
       "RACDIF4      6727\n",
       "ABPOOR       6735\n",
       "DIVLAW       6741\n",
       "AFFRMACT     6743\n",
       "ABNOMORE     6743\n",
       "ABANY        6744\n",
       "NATDRUG      6748\n",
       "ABHLTH       6754\n",
       "ABDEFECT     6771\n",
       "ABRAPE       6781\n",
       "NATAID       6791\n",
       "COLCOM       6797\n",
       "HOMOSEX      6820\n",
       "NATDRUGY     6832\n",
       "NATSPACY     6837\n",
       "PILLOK       6880\n",
       "MARHISP      6897\n",
       "NATSPAC      6955\n",
       "NATENRGY     6959\n",
       "LETDIE1      6967\n",
       "SPWRKSTA     7008\n",
       "HAPMAR       7014\n",
       "NATCITY      7123\n",
       "NATRACE      7124\n",
       "NATRACEY     7233\n",
       "NATCITYY     7242\n",
       "RINCOM06     8167\n",
       "SPREL        8250\n",
       "VOTE04       8378\n",
       "EVWORK       8658\n",
       "VOTE08       8700\n",
       "DIPGED       8707\n",
       "RICHWORK     8708\n",
       "JOBLOSE      8901\n",
       "JOBFIND      8904\n",
       "SPHRS1       9136\n",
       "COLMSLM      9248\n",
       "SPKMSLM      9249\n",
       "LIBMSLM      9276\n",
       "VOTE00       9288\n",
       "VOTE12       9435\n",
       "FEHIRE       9673\n",
       "DISCAFFW     9679\n",
       "DISCAFFM     9755\n",
       "FEJOBAFF     9866\n",
       "PRES04      10081\n",
       "PRES08      10166\n",
       "OTHLANG1    10174\n",
       "SPDEN       10438\n",
       "PRES00      10683\n",
       "ROWNGUN     10715\n",
       "PRES12      10739\n",
       "SPEVWORK    11091\n",
       "MAJOR1      11134\n",
       "WHENCOL     11161\n",
       "SECTOR      11369\n",
       "IF04WHO     11374\n",
       "OTHER       11478\n",
       "OTH16       11558\n",
       "IF08WHO     11679\n",
       "IF12WHO     11827\n",
       "WHENHS      11964\n",
       "OTHLANG2    12232\n",
       "SPOTHER     12344\n",
       "MAJOR2      12592\n",
       "HRS2        12690\n",
       "JEW16       12696\n",
       "JEW         12706\n",
       "SPJEWAJ     12936\n",
       "AGEWED      12936\n",
       "dtype: int64"
      ]
     },
     "execution_count": 43,
     "metadata": {},
     "output_type": "execute_result"
    }
   ],
   "source": [
    "df_filtered2.isna().sum().sort_values()\n",
    "# df.POLVIEWS.isna().sum()\n",
    "# df.nunique()"
   ]
  },
  {
   "cell_type": "code",
   "execution_count": 21,
   "metadata": {},
   "outputs": [],
   "source": [
    "pd.set_option('display.max_rows', 100000)"
   ]
  },
  {
   "cell_type": "code",
   "execution_count": 20,
   "metadata": {},
   "outputs": [],
   "source": []
  },
  {
   "cell_type": "code",
   "execution_count": null,
   "metadata": {},
   "outputs": [],
   "source": [
    "df.is"
   ]
  },
  {
   "cell_type": "code",
   "execution_count": 46,
   "metadata": {},
   "outputs": [],
   "source": [
    "from sklearn.base import BaseEstimator, TransformerMixin\n",
    "from sklearn.pipeline import FeatureUnion, Pipeline"
   ]
  },
  {
   "cell_type": "code",
   "execution_count": 55,
   "metadata": {},
   "outputs": [],
   "source": [
    "class DataFrameSelector(BaseEstimator, TransformerMixin):\n",
    "    '''Selects columns given a list of column names'''\n",
    "    def __init__(self, attribute_names):\n",
    "        self.attribute_names = attribute_names\n",
    "    def fit(self, X, y=None):\n",
    "        return self\n",
    "    def transform(self, X):\n",
    "        return X[self.attribute_names].values\n",
    "    \n",
    "class FilterNAs(BaseEstimator, TransformerMixin):\n",
    "    '''Drops columns that exceed a given amount of NAs'''\n",
    "    def __init__(self, drop_thresh = .5):\n",
    "        self.d_per = drop_thresh\n",
    "    def fit(self, X, y=None):\n",
    "        return self\n",
    "    def transform(self, X, y=None):\n",
    "        new_thresh = self.d_per * X.shape[0]\n",
    "        X.dropna(thresh=new_thresh, inplace=True, axis = 1)\n",
    "        return X    \n",
    "    \n",
    "class BinaryEncoding(BaseEstimator,TransformerMixin):\n",
    "    '''Ensures that binary attirbutes are properly encoded while still retaining NaNs'''\n",
    "    def fit(self,X,y=None):\n",
    "        return self\n",
    "    def transform(self,X,y=None):\n",
    "        for col in  X.T:\n",
    "            col[(~np.isnan(col)) & (col!=np.nanmax(col))] = 0\n",
    "            col[col==np.nanmax(col)] = 1"
   ]
  },
  {
   "cell_type": "code",
   "execution_count": 57,
   "metadata": {},
   "outputs": [],
   "source": [
    "test_pipeleine = Pipeline([\n",
    "    ('selector', DataFrameSelector(Continous))\n",
    "])"
   ]
  },
  {
   "cell_type": "code",
   "execution_count": 59,
   "metadata": {},
   "outputs": [],
   "source": [
    "p = test_pipeleine.fit_transform(df)"
   ]
  },
  {
   "cell_type": "code",
   "execution_count": 80,
   "metadata": {},
   "outputs": [
    {
     "data": {
      "text/plain": [
       "array([[1.972e+03,       nan,       nan, ..., 0.000e+00,       nan,\n",
       "              nan],\n",
       "       [1.972e+03,       nan,       nan, ..., 0.000e+00,       nan,\n",
       "              nan],\n",
       "       [1.972e+03,       nan,       nan, ..., 1.000e+00,       nan,\n",
       "              nan],\n",
       "       ...,\n",
       "       [2.016e+03,       nan,       nan, ..., 0.000e+00, 1.000e+00,\n",
       "        5.200e+01],\n",
       "       [2.016e+03, 3.600e+01,       nan, ..., 0.000e+00, 3.000e+00,\n",
       "        4.000e+01],\n",
       "       [2.016e+03,       nan,       nan, ..., 0.000e+00,       nan,\n",
       "        0.000e+00]])"
      ]
     },
     "execution_count": 80,
     "metadata": {},
     "output_type": "execute_result"
    }
   ],
   "source": [
    "p"
   ]
  },
  {
   "cell_type": "code",
   "execution_count": 167,
   "metadata": {},
   "outputs": [],
   "source": []
  },
  {
   "cell_type": "code",
   "execution_count": 163,
   "metadata": {},
   "outputs": [
    {
     "data": {
      "text/plain": [
       "1e+27"
      ]
     },
     "execution_count": 163,
     "metadata": {},
     "output_type": "execute_result"
    }
   ],
   "source": [
    "np.nanmax(t)"
   ]
  },
  {
   "cell_type": "code",
   "execution_count": null,
   "metadata": {},
   "outputs": [],
   "source": []
  },
  {
   "cell_type": "code",
   "execution_count": 149,
   "metadata": {},
   "outputs": [
    {
     "data": {
      "text/plain": [
       "89.0"
      ]
     },
     "execution_count": 149,
     "metadata": {},
     "output_type": "execute_result"
    }
   ],
   "source": [
    "np.nanmax(t)"
   ]
  },
  {
   "cell_type": "code",
   "execution_count": 103,
   "metadata": {},
   "outputs": [
    {
     "name": "stderr",
     "output_type": "stream",
     "text": [
      "C:\\Users\\jakes\\AppData\\Local\\Continuum\\anaconda3\\lib\\site-packages\\numpy\\core\\_methods.py:26: RuntimeWarning: invalid value encountered in reduce\n",
      "  return umr_maximum(a, axis, None, out, keepdims)\n"
     ]
    },
    {
     "data": {
      "text/plain": [
       "array([[0, 0, 0, ..., 0, 0, 0],\n",
       "       [0, 0, 0, ..., 0, 0, 0],\n",
       "       [0, 0, 0, ..., 0, 0, 0],\n",
       "       ...,\n",
       "       [0, 0, 0, ..., 0, 0, 0],\n",
       "       [0, 0, 0, ..., 0, 0, 0],\n",
       "       [0, 0, 0, ..., 0, 0, 0]])"
      ]
     },
     "execution_count": 103,
     "metadata": {},
     "output_type": "execute_result"
    }
   ],
   "source": [
    "(a == a.max(axis=1)[:,None]).astype(int)"
   ]
  },
  {
   "cell_type": "code",
   "execution_count": 108,
   "metadata": {},
   "outputs": [
    {
     "data": {
      "text/plain": [
       "array([[0, 1],\n",
       "       [0, 1],\n",
       "       [0, 1],\n",
       "       [0, 1],\n",
       "       [1, 0]])"
      ]
     },
     "execution_count": 108,
     "metadata": {},
     "output_type": "execute_result"
    }
   ],
   "source": [
    "a = np.array([[0, 1], [2, 3], [4, 5], [6, 7], [9, 8]])\n",
    "b = np.zeros_like(a)\n",
    "b[np.arange(len(a)), a.argmax(1)] = 1\n",
    "b"
   ]
  },
  {
   "cell_type": "code",
   "execution_count": 139,
   "metadata": {},
   "outputs": [],
   "source": [
    "b = np.zeros_like(a)"
   ]
  },
  {
   "cell_type": "code",
   "execution_count": 141,
   "metadata": {},
   "outputs": [
    {
     "data": {
      "text/plain": [
       "array([0., 0., 0., 0., 0., 0., 0., 0., 0., 0., 0., 0., 0., 0., 0., 0., 0.,\n",
       "       0., 0.])"
      ]
     },
     "execution_count": 141,
     "metadata": {},
     "output_type": "execute_result"
    }
   ],
   "source": [
    "b[1]"
   ]
  },
  {
   "cell_type": "code",
   "execution_count": 135,
   "metadata": {},
   "outputs": [
    {
     "data": {
      "text/plain": [
       "array([[1.972e+03,       nan,       nan, ..., 0.000e+00,       nan,\n",
       "              nan],\n",
       "       [1.972e+03,       nan,       nan, ..., 0.000e+00,       nan,\n",
       "              nan],\n",
       "       [1.972e+03,       nan,       nan, ..., 1.000e+00,       nan,\n",
       "              nan],\n",
       "       ...,\n",
       "       [2.016e+03,       nan,       nan, ..., 0.000e+00, 1.000e+00,\n",
       "        5.200e+01],\n",
       "       [2.016e+03, 3.600e+01,       nan, ..., 0.000e+00, 3.000e+00,\n",
       "        4.000e+01],\n",
       "       [2.016e+03,       nan,       nan, ..., 0.000e+00,       nan,\n",
       "        0.000e+00]])"
      ]
     },
     "execution_count": 135,
     "metadata": {},
     "output_type": "execute_result"
    }
   ],
   "source": [
    "max([i for i in LIST if i is not None])"
   ]
  },
  {
   "cell_type": "code",
   "execution_count": 109,
   "metadata": {},
   "outputs": [
    {
     "data": {
      "text/plain": [
       "array([0, 1, 2, 3, 4])"
      ]
     },
     "execution_count": 109,
     "metadata": {},
     "output_type": "execute_result"
    }
   ],
   "source": [
    "np.arange(len(a))"
   ]
  },
  {
   "cell_type": "code",
   "execution_count": 131,
   "metadata": {},
   "outputs": [],
   "source": [
    "b[np.array([0, 1, 2, 3, 4]), a.argmax(1)] = 1"
   ]
  },
  {
   "cell_type": "code",
   "execution_count": 138,
   "metadata": {},
   "outputs": [
    {
     "data": {
      "text/plain": [
       "array([0., 1., 0., 0., 0., 0., 0., 0., 0., 0., 0., 0., 0., 0., 0., 0., 0.,\n",
       "       0., 0.])"
      ]
     },
     "execution_count": 138,
     "metadata": {},
     "output_type": "execute_result"
    }
   ],
   "source": [
    "b[1]"
   ]
  },
  {
   "cell_type": "code",
   "execution_count": 94,
   "metadata": {},
   "outputs": [],
   "source": [
    "max_array = [np.nanmax(col) for i,col in  enumerate(p.T)]"
   ]
  },
  {
   "cell_type": "code",
   "execution_count": 95,
   "metadata": {},
   "outputs": [
    {
     "data": {
      "text/plain": [
       "[2016.0,\n",
       " 89.0,\n",
       " 89.0,\n",
       " 90.0,\n",
       " 89.0,\n",
       " 68.0,\n",
       " 9.0,\n",
       " 89.0,\n",
       " 2015.0,\n",
       " 2016.0,\n",
       " 8.0,\n",
       " 16.0,\n",
       " 9.0,\n",
       " 1998.0,\n",
       " 6.0,\n",
       " 8.0,\n",
       " 8.0,\n",
       " 24.0,\n",
       " 52.0]"
      ]
     },
     "execution_count": 95,
     "metadata": {},
     "output_type": "execute_result"
    }
   ],
   "source": [
    "max_array"
   ]
  },
  {
   "cell_type": "code",
   "execution_count": null,
   "metadata": {},
   "outputs": [],
   "source": []
  },
  {
   "cell_type": "code",
   "execution_count": 87,
   "metadata": {},
   "outputs": [],
   "source": [
    "df_t = df[Continous]"
   ]
  },
  {
   "cell_type": "code",
   "execution_count": 88,
   "metadata": {},
   "outputs": [
    {
     "data": {
      "text/plain": [
       "Index(['YEAR', 'HRS1', 'HRS2', 'AGEWED', 'SPHRS1', 'SIBS', 'CHILDS', 'AGE',\n",
       "       'WHENHS', 'WHENCOL', 'PARBORN', 'HOMPOP', 'CHLDIDEL', 'COHORT',\n",
       "       'BABIES', 'PRETEEN', 'TEENS', 'TVHOURS', 'WEEKSWRK'],\n",
       "      dtype='object')"
      ]
     },
     "execution_count": 88,
     "metadata": {},
     "output_type": "execute_result"
    }
   ],
   "source": [
    "df_t.columns"
   ]
  },
  {
   "cell_type": "code",
   "execution_count": 84,
   "metadata": {},
   "outputs": [
    {
     "data": {
      "text/plain": [
       "(62466, 19)"
      ]
     },
     "execution_count": 84,
     "metadata": {},
     "output_type": "execute_result"
    }
   ],
   "source": [
    "p.shape"
   ]
  },
  {
   "cell_type": "code",
   "execution_count": 85,
   "metadata": {},
   "outputs": [],
   "source": [
    "max_array = np.zeros(0)\n"
   ]
  }
 ],
 "metadata": {
  "kernelspec": {
   "display_name": "Python 3",
   "language": "python",
   "name": "python3"
  },
  "language_info": {
   "codemirror_mode": {
    "name": "ipython",
    "version": 3
   },
   "file_extension": ".py",
   "mimetype": "text/x-python",
   "name": "python",
   "nbconvert_exporter": "python",
   "pygments_lexer": "ipython3",
   "version": "3.6.4"
  }
 },
 "nbformat": 4,
 "nbformat_minor": 2
}
