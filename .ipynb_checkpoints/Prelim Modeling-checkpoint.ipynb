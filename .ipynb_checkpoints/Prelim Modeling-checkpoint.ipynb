{
 "cells": [
  {
   "cell_type": "code",
   "execution_count": 4,
   "metadata": {},
   "outputs": [],
   "source": [
    "import numpy as np\n",
    "import pandas as pd"
   ]
  },
  {
   "cell_type": "code",
   "execution_count": 5,
   "metadata": {},
   "outputs": [],
   "source": [
    "df = pd.read_csv('data/GSS.csv')"
   ]
  },
  {
   "cell_type": "code",
   "execution_count": 6,
   "metadata": {},
   "outputs": [
    {
     "data": {
      "text/html": [
       "<div>\n",
       "<style scoped>\n",
       "    .dataframe tbody tr th:only-of-type {\n",
       "        vertical-align: middle;\n",
       "    }\n",
       "\n",
       "    .dataframe tbody tr th {\n",
       "        vertical-align: top;\n",
       "    }\n",
       "\n",
       "    .dataframe thead th {\n",
       "        text-align: right;\n",
       "    }\n",
       "</style>\n",
       "<table border=\"1\" class=\"dataframe\">\n",
       "  <thead>\n",
       "    <tr style=\"text-align: right;\">\n",
       "      <th></th>\n",
       "      <th>Variable Name</th>\n",
       "      <th>Code</th>\n",
       "      <th>Label</th>\n",
       "    </tr>\n",
       "  </thead>\n",
       "  <tbody>\n",
       "    <tr>\n",
       "      <th>0</th>\n",
       "      <td>WRKSTAT</td>\n",
       "      <td>9</td>\n",
       "      <td>No answer</td>\n",
       "    </tr>\n",
       "    <tr>\n",
       "      <th>1</th>\n",
       "      <td>WRKSTAT</td>\n",
       "      <td>8</td>\n",
       "      <td>Other</td>\n",
       "    </tr>\n",
       "    <tr>\n",
       "      <th>2</th>\n",
       "      <td>WRKSTAT</td>\n",
       "      <td>7</td>\n",
       "      <td>Keeping house</td>\n",
       "    </tr>\n",
       "    <tr>\n",
       "      <th>3</th>\n",
       "      <td>WRKSTAT</td>\n",
       "      <td>6</td>\n",
       "      <td>School</td>\n",
       "    </tr>\n",
       "    <tr>\n",
       "      <th>4</th>\n",
       "      <td>WRKSTAT</td>\n",
       "      <td>5</td>\n",
       "      <td>Retired</td>\n",
       "    </tr>\n",
       "  </tbody>\n",
       "</table>\n",
       "</div>"
      ],
      "text/plain": [
       "  Variable Name  Code          Label\n",
       "0       WRKSTAT     9      No answer\n",
       "1       WRKSTAT     8          Other\n",
       "2       WRKSTAT     7  Keeping house\n",
       "3       WRKSTAT     6         School\n",
       "4       WRKSTAT     5        Retired"
      ]
     },
     "execution_count": 6,
     "metadata": {},
     "output_type": "execute_result"
    }
   ],
   "source": [
    "df_remap = pd.read_excel('data/GSS_metadata - Remaping Tool.xls',sheet_name='Codes')\n",
    "df_remap = df_remap.iloc[:,1:]\n",
    "df_remap['Variable Name'] = df_remap['Variable Name'].str.upper()\n",
    "df_remap.head()"
   ]
  },
  {
   "cell_type": "code",
   "execution_count": 7,
   "metadata": {},
   "outputs": [],
   "source": [
    "def recur_dictify(frame):\n",
    "    if len(frame.columns) == 1:\n",
    "        if frame.values.size == 1: return frame.values[0][0]\n",
    "        return frame.values.squeeze()\n",
    "    grouped = frame.groupby(frame.columns[0])\n",
    "    d = {k: recur_dictify(g.iloc[:,1:]) for k,g in grouped}\n",
    "    return d"
   ]
  },
  {
   "cell_type": "code",
   "execution_count": 11,
   "metadata": {},
   "outputs": [
    {
     "data": {
      "text/plain": [
       "YEAR            0\n",
       "ID_             0\n",
       "WRKSTAT        19\n",
       "HRS1        26294\n",
       "HRS2        61278\n",
       "EVWORK      40672\n",
       "WRKSLF       3692\n",
       "WRKGOVT     36362\n",
       "OCC10        3802\n",
       "INDUS10      3968\n",
       "MARITAL        25\n",
       "AGEWED      35904\n",
       "DIVORCE     23565\n",
       "SPWRKSTA    29409\n",
       "SPHRS1      42207\n",
       "SPEVWORK    51736\n",
       "PAWRKSLF    11756\n",
       "PAIND80     37015\n",
       "SIBS         1632\n",
       "CHILDS          0\n",
       "AGE           220\n",
       "EDUC          103\n",
       "DEGREE        143\n",
       "PADEG       11687\n",
       "MAJOR1      59748\n",
       "MAJOR2      61929\n",
       "DIPGED      56056\n",
       "WHENHS      60967\n",
       "WHENCOL     59758\n",
       "SECTOR      60117\n",
       "            ...  \n",
       "COOP         2045\n",
       "COMPREND      558\n",
       "FEPRESCH    33405\n",
       "FEFAM       33415\n",
       "RACDIF1     33652\n",
       "RACDIF2     33632\n",
       "RACDIF3     33631\n",
       "RACDIF4     33686\n",
       "HELPPOOR    30468\n",
       "HELPNOT     30483\n",
       "HELPSICK    30491\n",
       "HELPBLK     30050\n",
       "GOD         39973\n",
       "REBORN      42537\n",
       "SAVESOUL    45174\n",
       "MARHISP     49228\n",
       "DISCAFF     44380\n",
       "FEJOBAFF    54915\n",
       "DISCAFFM    55193\n",
       "DISCAFFW    55181\n",
       "FEHIRE      54456\n",
       "RELPERSN    46674\n",
       "SPRTPRSN    46668\n",
       "OTHLANG     46830\n",
       "OTHLANG1    58231\n",
       "OTHLANG2    61402\n",
       "MEOVRWRK    46307\n",
       "DATEINTV     4691\n",
       "COHORT        221\n",
       "BALLOT      21875\n",
       "Length: 246, dtype: int64"
      ]
     },
     "execution_count": 11,
     "metadata": {},
     "output_type": "execute_result"
    }
   ],
   "source": [
    "remaper = recur_dictify(df_remap)\n",
    "df2 = df.replace(remaper)\n",
    "df2 = df2.replace('Not applicable',np.NaN)\n",
    "df2 = df2.replace('No answer',np.NaN)\n",
    "df2.isna().sum()"
   ]
  }
 ],
 "metadata": {
  "kernelspec": {
   "display_name": "Python 3",
   "language": "python",
   "name": "python3"
  },
  "language_info": {
   "codemirror_mode": {
    "name": "ipython",
    "version": 3
   },
   "file_extension": ".py",
   "mimetype": "text/x-python",
   "name": "python",
   "nbconvert_exporter": "python",
   "pygments_lexer": "ipython3",
   "version": "3.6.4"
  }
 },
 "nbformat": 4,
 "nbformat_minor": 2
}
