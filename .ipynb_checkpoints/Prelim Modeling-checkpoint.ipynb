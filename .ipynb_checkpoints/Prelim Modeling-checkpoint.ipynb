{
 "cells": [
  {
   "cell_type": "markdown",
   "metadata": {},
   "source": [
    "# GSS Data Analysis: Preliminary Modeling"
   ]
  },
  {
   "cell_type": "markdown",
   "metadata": {},
   "source": [
    "## Cleaning the data\n",
    "\n",
    "The data currently comes in an all numeric format, making visuals and understanding the data difficult. Additionaly, all NAs are coded as if there are actual values. We must clean and reformat the data."
   ]
  },
  {
   "cell_type": "markdown",
   "metadata": {},
   "source": [
    "### Converting to strings and dropping Nulls"
   ]
  },
  {
   "cell_type": "code",
   "execution_count": 1,
   "metadata": {},
   "outputs": [],
   "source": [
    "import numpy as np\n",
    "import pandas as pd"
   ]
  },
  {
   "cell_type": "code",
   "execution_count": 2,
   "metadata": {},
   "outputs": [],
   "source": [
    "# Loading in the data\n",
    "\n",
    "df = pd.read_csv('data/GSS.csv')"
   ]
  },
  {
   "cell_type": "code",
   "execution_count": 3,
   "metadata": {},
   "outputs": [],
   "source": [
    "# Using the meta data as a tool for converting the numeric values of the df into strings and then back\n",
    "\n",
    "df_remap  = pd.read_excel('data/GSS_metadata.xlsx',sheet_name='Codes')\n",
    "df_remap = df_remap.iloc[:,1:]\n",
    "df_remap.fillna(method='ffill')\n",
    "df_remap['Variable Name'] = df_remap['Variable Name'].str.upper()"
   ]
  },
  {
   "cell_type": "code",
   "execution_count": 4,
   "metadata": {},
   "outputs": [],
   "source": [
    "# This dataframe will help turn the strings back into numbers\n",
    "# This will help speed up recoding ordinal values for machine learning\n",
    "\n",
    "df_remap_reverse = df_remap[['Variable Name','Label','Code']]"
   ]
  },
  {
   "cell_type": "code",
   "execution_count": 5,
   "metadata": {},
   "outputs": [],
   "source": [
    "def recur_dictify(frame):\n",
    "    '''Recursive function to turn the meta data dataframe into a dictionary for remapping values'''\n",
    "    \n",
    "    # Base Case\n",
    "    if len(frame.columns) == 1:\n",
    "        if frame.values.size == 1: return frame.values[0][0]\n",
    "        return frame.values.squeeze()\n",
    "    \n",
    "    # Recursive Case\n",
    "    grouped = frame.groupby(frame.columns[0])\n",
    "    dictionary = {name: recur_dictify(group.iloc[:,1:]) for name,group in grouped}\n",
    "    return dictionary"
   ]
  },
  {
   "cell_type": "code",
   "execution_count": 6,
   "metadata": {},
   "outputs": [],
   "source": [
    "remaper = recur_dictify(df_remap)\n",
    "remaper_reverse = recur_dictify(df_remap_reverse)"
   ]
  },
  {
   "cell_type": "code",
   "execution_count": 7,
   "metadata": {},
   "outputs": [],
   "source": [
    "# Converts the numbers to strings and drops NAs\n",
    "\n",
    "df_strings = df.replace(remaper)\n",
    "df_strings = df_strings.replace([\"No answer\",\"Don't know\",\"Not applicable\"],np.NaN)"
   ]
  },
  {
   "cell_type": "code",
   "execution_count": 8,
   "metadata": {},
   "outputs": [],
   "source": [
    "# We must be more specific to convert strings back into numbers\n",
    "# This is because the pandas 'replace' function fails for the 'remaper_reverse' dictionary\n",
    "\n",
    "df = pd.DataFrame()\n",
    "for key in remaper_reverse.keys():\n",
    "    df[key] = df_strings[key].map(remaper_reverse[key])"
   ]
  },
  {
   "cell_type": "code",
   "execution_count": null,
   "metadata": {},
   "outputs": [],
   "source": [
    "#\n",
    "\n",
    "# df_strings.to_csv('data/data_strings.csv')\n",
    "# df.to_csv('data/data_clean.csv')"
   ]
  },
  {
   "cell_type": "markdown",
   "metadata": {},
   "source": [
    "### Converting to strings and dropping Nulls"
   ]
  },
  {
   "cell_type": "code",
   "execution_count": null,
   "metadata": {},
   "outputs": [],
   "source": []
  }
 ],
 "metadata": {
  "kernelspec": {
   "display_name": "Python 3",
   "language": "python",
   "name": "python3"
  },
  "language_info": {
   "codemirror_mode": {
    "name": "ipython",
    "version": 3
   },
   "file_extension": ".py",
   "mimetype": "text/x-python",
   "name": "python",
   "nbconvert_exporter": "python",
   "pygments_lexer": "ipython3",
   "version": "3.6.4"
  }
 },
 "nbformat": 4,
 "nbformat_minor": 2
}
