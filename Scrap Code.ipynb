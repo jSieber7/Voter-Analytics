{
 "cells": [
  {
   "cell_type": "code",
   "execution_count": null,
   "metadata": {},
   "outputs": [],
   "source": [
    "# Class not neccessary for now, it is more clear when we filter outside of the pipeline\n",
    "# class DataFrameFilter(BaseEstimator, TransformerMixin):\n",
    "#     '''Filters a DataFrame with specficied arguments. The transform method will need to be changed often.'''\n",
    "#     def fit(self, X, y=None):\n",
    "#         return self\n",
    "#     def transform(self, X, y=None):\n",
    "#         X_filtered = X[(X['YEAR'] > 2000)]\n",
    "#         return X_filtered  \n",
    "    "
   ]
  }
 ],
 "metadata": {
  "kernelspec": {
   "display_name": "Python 3",
   "language": "python",
   "name": "python3"
  },
  "language_info": {
   "codemirror_mode": {
    "name": "ipython",
    "version": 3
   },
   "file_extension": ".py",
   "mimetype": "text/x-python",
   "name": "python",
   "nbconvert_exporter": "python",
   "pygments_lexer": "ipython3",
   "version": "3.7.0"
  }
 },
 "nbformat": 4,
 "nbformat_minor": 2
}
