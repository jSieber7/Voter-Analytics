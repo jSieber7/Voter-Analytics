{
 "cells": [
  {
   "cell_type": "markdown",
   "metadata": {},
   "source": [
    "# GSS Data Analysis: Preliminary Modeling"
   ]
  },
  {
   "cell_type": "markdown",
   "metadata": {},
   "source": [
    "## Helper Functions and Classes\n"
   ]
  },
  {
   "cell_type": "markdown",
   "metadata": {},
   "source": [
    "#### Turning a DataFrame into a mapping (strings to numbers and back) dictionary"
   ]
  },
  {
   "cell_type": "code",
   "execution_count": 1,
   "metadata": {},
   "outputs": [],
   "source": [
    "def recur_dictify(frame):\n",
    "    '''Recursive function to turn the meta data dataframe into a dictionary for remapping values'''\n",
    "    \n",
    "    # Base Case\n",
    "    if len(frame.columns) == 1:\n",
    "        if frame.values.size == 1: return frame.values[0][0]\n",
    "        return frame.values.squeeze()\n",
    "    \n",
    "    # Recursive Case\n",
    "    grouped = frame.groupby(frame.columns[0])\n",
    "    dictionary = {name: recur_dictify(group.iloc[:,1:]) for name,group in grouped}\n",
    "    return dictionary"
   ]
  },
  {
   "cell_type": "markdown",
   "metadata": {},
   "source": [
    "#### Getting the column names of the Nominal, Ordinal (and Continuous), and Binary columns"
   ]
  },
  {
   "cell_type": "code",
   "execution_count": 2,
   "metadata": {},
   "outputs": [],
   "source": [
    "# We operate under the tested assumption that unless specified or over 11 distinct values,\n",
    "# the column is ordinal.\n",
    "\n",
    "# We end up with four distinct lists of columns that we will use in our data pipeline:\n",
    "# Ordinal, Nominal, Binary, and Drop\n",
    "\n",
    "# Note: We in fact will not use the Drop list in the pipelines, as we will just not select these columns\n",
    "\n",
    "\n",
    "def GetColumnNames(df, Target_Variables = ['POLVIEWS']):\n",
    "    '''Specialized Function to get the Ordinal, Nominal, and Binary column names.'''\n",
    "    \n",
    "    # Gets the dataframe column names alongisde the number of unique entries\n",
    "    # Forms the basis of our rule system: if over 11 distinct categories then it is nominal\n",
    "    df_columns = df.nunique()\n",
    "\n",
    "    # Columns that may become exceptions to the rules\n",
    "    Drop = ['ID_','DATEINTV','COHORT','SPOTHER','OTH16','OTHER']\n",
    "    Continuous = [\"YEAR\",\"HRS1\",\"HRS2\",\"AGEWED\",\"SPHRS1\",\"SIBS\",\"CHILDS\",\"AGE\",\"WHENHS\",\"WHENCOL\",\n",
    "             \"HOMPOP\",\"CHLDIDEL\",\"COHORT\",\"BABIES\",\"PRETEEN\",\"TEENS\",\"TVHOURS\",'WEEKSWRK']\n",
    "    Small_Categorical = [\"REGION\",\"WRKSTAT\",\"MARITAL\",'SPWRKSTA','PAWRKSLF','DIPGED','SECTOR','RACE','PARBORN',\n",
    "                        'PRES00','VOTE04','PRES04','IF04WHO','VOTE00','VOTE08','PRES08',\n",
    "                        'IF08WHO','VOTE12','PRES12','IF12WHO']\n",
    "    Large_Ordinal = ['RINCOM06','RINCOME','INCOME']\n",
    "\n",
    "    # Gets rid of all of the columns manually specified\n",
    "    df_columns = df_columns[~(df_columns.index.isin(Drop)) &\n",
    "                       ~(df_columns.index.isin(Continuous)) &\n",
    "                       ~(df_columns.index.isin(Small_Categorical)) &\n",
    "                       ~(df_columns.index.isin(Large_Ordinal)) &\n",
    "                       ~(df_columns.index.isin(Target_Variables))]\n",
    "\n",
    "    # Now we make the lists of columns one by one\n",
    "    Nominal = list(df_columns[df_columns >= 11].index & df_columns[df_columns != 2].index)\n",
    "    Nominal = Nominal + Small_Categorical\n",
    "    # Checks to see if all of the list items are in the column index of the Df. If not, drop them.\n",
    "    Nominal = [col for col in Nominal if col in df.columns]\n",
    "    \n",
    "    Ordinal = list(df_columns[df_columns <= 11].index & df_columns[df_columns != 2].index) \n",
    "    Ordinal = Ordinal + Continuous + Large_Ordinal\n",
    "    Ordinal = [col for col in Ordinal if col in df.columns]\n",
    "    \n",
    "    Binary = list(df_columns[df_columns == 2].index)\n",
    "    Binary = [col for col in Binary if col in df.columns]\n",
    "    \n",
    "    return Nominal, Ordinal, Binary"
   ]
  },
  {
   "cell_type": "markdown",
   "metadata": {},
   "source": [
    "#### First Pipeline Classes"
   ]
  },
  {
   "cell_type": "code",
   "execution_count": 3,
   "metadata": {},
   "outputs": [],
   "source": [
    "from sklearn.base import BaseEstimator, TransformerMixin\n",
    "\n",
    "class DataFrameSelector(BaseEstimator, TransformerMixin):\n",
    "    '''Selects columns given a list of column names and turns into Numpy Array'''\n",
    "    def __init__(self, attribute_names):\n",
    "        self.attribute_names = attribute_names\n",
    "    def fit(self, X, y=None):\n",
    "        return self\n",
    "    def transform(self, X):\n",
    "        return X[self.attribute_names].values\n",
    "    \n",
    "class BinaryEncoding(BaseEstimator,TransformerMixin):\n",
    "    '''Ensures that binary attirbutes are properly encoded while still retaining NaNs'''\n",
    "    def fit(self,X,y=None):\n",
    "        return self\n",
    "    def transform(self,X, y=None):\n",
    "        for col in  X.T:\n",
    "            # While not a necessary feature in this instance, this is robust to missing values.\n",
    "            col[(~np.isnan(col)) & (col!=np.nanmax(col))] = 0\n",
    "            col[col==np.nanmax(col)] = 1\n",
    "        return X\n",
    "    \n",
    "    \n",
    "class DataFrameSelectorAndRecode(BaseEstimator, TransformerMixin):\n",
    "    '''Same as DataFrameSelector, but also turns numbers into strings'''\n",
    "    def __init__(self, attribute_names, remap_dict):\n",
    "        self.attribute_names = attribute_names\n",
    "        self.remap_dict = remap_dict \n",
    "    def fit(self, X, y=None):\n",
    "        return self\n",
    "    def transform(self, X):\n",
    "        X = X[self.attribute_names]\n",
    "        X = X.replace(self.remap_dict)\n",
    "        return X.values\n"
   ]
  },
  {
   "cell_type": "markdown",
   "metadata": {},
   "source": [
    "#### Second Pipeline Classes"
   ]
  },
  {
   "cell_type": "code",
   "execution_count": 4,
   "metadata": {},
   "outputs": [],
   "source": [
    "# Note: These classes are different from the other classes. They expect a dataframe input and output a dataframe.\n",
    "\n",
    "class UniqueThreshold(BaseEstimator, TransformerMixin):\n",
    "    '''Drops columns that exceed a given amount of unqiues'''\n",
    "    def __init__(self, threshold = 20, ignore_columns=None):\n",
    "        self.max_unique = threshold\n",
    "        self.keep_cols = ignore_columns\n",
    "    def fit(self, X, y=None):\n",
    "        return self\n",
    "    def transform(self, X, y=None):\n",
    "        # We must code carefully to avoid getting rid of ordinal column values\n",
    "    \n",
    "        # Makes a list of all columns in X\n",
    "        columns = list(X.columns)\n",
    "        \n",
    "        # Selects all of the columns that we want to filter for unique values \n",
    "        # (i.e. non-ordinal b/c it will inflate the amount of columns)\n",
    "        non_ordinal_columns = [x for x in columns if x not in self.keep_cols]\n",
    "        \n",
    "        # Selects the columns that we want to filter \n",
    "        X_filtered = X.loc[:,non_ordinal_columns]\n",
    "        \n",
    "        # Sets a boolean index and uses it to filter our columns\n",
    "        critera = (X_filtered.nunique() <= self.max_unique)\n",
    "        under_thresh = list(critera.index[critera])\n",
    "        \n",
    "        # Gets the filtered columns and also puts in all ordinal columns\n",
    "        X_filtered = X.loc[:, under_thresh + self.keep_cols]\n",
    "        return X_filtered\n",
    "    \n",
    "        \n",
    "\n",
    "class FilterNAs(BaseEstimator, TransformerMixin):\n",
    "    '''Drops columns that exceed a given amount of NAs'''\n",
    "    def __init__(self, threshold = .5):\n",
    "        self.d_per = 1-threshold\n",
    "    def fit(self, X, y=None):\n",
    "        return self\n",
    "    def transform(self, X, y=None):\n",
    "        new_thresh = self.d_per * X.shape[0]\n",
    "        X.dropna(thresh=new_thresh, inplace=True, axis = 1)\n",
    "        return X    "
   ]
  },
  {
   "cell_type": "markdown",
   "metadata": {},
   "source": [
    "#### Quick Fitting Multiple Models"
   ]
  },
  {
   "cell_type": "code",
   "execution_count": 123,
   "metadata": {},
   "outputs": [],
   "source": [
    "from sklearn.model_selection import cross_val_score\n",
    "\n",
    "def QuickModel(ml_algo,names,X,y):\n",
    "    '''Quick modeling and cross validation for multiple models'''\n",
    "    for algo,name in zip(ml_algo,names):\n",
    "        Model = algo\n",
    "        Model = Model.fit(X,y)\n",
    "        print(name, 'Cross Validation:', cross_val_score(Model,X,y,cv=5,scoring='r2'))"
   ]
  },
  {
   "cell_type": "markdown",
   "metadata": {},
   "source": [
    "## Cleaning the data\n",
    "\n",
    "The data currently comes in an all numeric format, making visuals and understanding the data difficult. Additionaly, all NAs seem like actual values. Cleaning the data is the first step in analysis."
   ]
  },
  {
   "cell_type": "markdown",
   "metadata": {},
   "source": [
    "### Step One: Converting the data to and from Strings\n",
    "\n",
    "We can use the metadata included with the data download to easily remap strings to numbers and back."
   ]
  },
  {
   "cell_type": "code",
   "execution_count": 5,
   "metadata": {},
   "outputs": [],
   "source": [
    "# We must be careful with displaying all rows, as displaying too many can make the notebook become very slow\n",
    "# pd.set_option('display.max_rows', 100000)"
   ]
  },
  {
   "cell_type": "code",
   "execution_count": 6,
   "metadata": {},
   "outputs": [],
   "source": [
    "import numpy as np\n",
    "import pandas as pd "
   ]
  },
  {
   "cell_type": "code",
   "execution_count": 8,
   "metadata": {},
   "outputs": [],
   "source": [
    "# Loading in the data\n",
    "\n",
    "df = pd.read_csv('data/GSS.csv')"
   ]
  },
  {
   "cell_type": "code",
   "execution_count": 9,
   "metadata": {},
   "outputs": [],
   "source": [
    "# Using the meta data as a tool for converting the numeric values of the df into strings and then back\n",
    "\n",
    "df_remap  = pd.read_excel('data/GSS_metadata.xlsx',sheet_name='Codes')\n",
    "df_remap = df_remap.iloc[:,1:]\n",
    "df_remap = df_remap.fillna(method='ffill')\n",
    "df_remap['Variable Name'] = df_remap['Variable Name'].str.upper()"
   ]
  },
  {
   "cell_type": "code",
   "execution_count": 10,
   "metadata": {},
   "outputs": [],
   "source": [
    "# This dataframe will help turn the strings back into numbers\n",
    "# This will help speed up recoding ordinal values for machine learning\n",
    "\n",
    "df_remap_reverse = df_remap[['Variable Name','Label','Code']]"
   ]
  },
  {
   "cell_type": "code",
   "execution_count": 11,
   "metadata": {},
   "outputs": [],
   "source": [
    "remaper = recur_dictify(df_remap)\n",
    "remaper_reverse = recur_dictify(df_remap_reverse)"
   ]
  },
  {
   "cell_type": "code",
   "execution_count": 12,
   "metadata": {},
   "outputs": [],
   "source": [
    "# Converts the numbers to strings and drops NAs\n",
    "\n",
    "df_strings = df.replace(remaper)\n",
    "df_strings = df_strings.replace([\"No answer\",\"Don't know\",\"Not applicable\",\"-1\"],np.NaN)\n",
    "# df_strings.to_csv('data/data_strings.csv', index=False)\n",
    "df_strings = pd.read_csv('data/data_strings.csv', low_memory=False)"
   ]
  },
  {
   "cell_type": "code",
   "execution_count": 13,
   "metadata": {},
   "outputs": [],
   "source": [
    "# We must be more specific to convert strings back into numbers\n",
    "# This is because the pandas 'replace' function fails for the 'remaper_reverse' dictionary\n",
    "\n",
    "df = df_strings\n",
    "for key in remaper_reverse.keys():\n",
    "    df[key] = df_strings[key].map(remaper_reverse[key]).fillna(df_strings[key])\n",
    "\n",
    "# df = df[list(df_strings.columns)]\n",
    "# df.to_csv('data/data_clean.csv', index=False)"
   ]
  },
  {
   "cell_type": "markdown",
   "metadata": {},
   "source": [
    "### Aside: Quick Graphs\n",
    "While the dataframe of string values may not be good for machine learning, it can be a great tool for visualization."
   ]
  },
  {
   "cell_type": "code",
   "execution_count": 14,
   "metadata": {},
   "outputs": [],
   "source": [
    "import matplotlib.pyplot as plt\n",
    "import matplotlib.ticker as mtick\n",
    "%matplotlib inline"
   ]
  },
  {
   "cell_type": "code",
   "execution_count": 15,
   "metadata": {},
   "outputs": [],
   "source": [
    "df_strings = pd.read_csv('data/data_strings.csv', low_memory=False)"
   ]
  },
  {
   "cell_type": "code",
   "execution_count": 16,
   "metadata": {},
   "outputs": [
    {
     "data": {
      "image/png": "[encoded data removed]",
      "text/plain": [
       "<Figure size 432x288 with 1 Axes>"
      ]
     },
     "metadata": {
      "needs_background": "light"
     },
     "output_type": "display_data"
    }
   ],
   "source": [
    "x = df_strings['HOMOSEX'].value_counts().index\n",
    "y = df_strings['HOMOSEX'].value_counts().values\n",
    "fig, ax = plt.subplots()\n",
    "ax.barh(x,y)\n",
    "plt.show()"
   ]
  },
  {
   "cell_type": "code",
   "execution_count": 17,
   "metadata": {},
   "outputs": [],
   "source": [
    "df_graph = df_strings\n",
    "df_graph['Before2000'] = ['Before 2000' if x < 2000 else '2000 and after' for x in df['YEAR']]\n",
    "df_graph_bar = df_graph.groupby(['HOMOSEX','Before2000']).size() #.reset_index(name='counts')"
   ]
  },
  {
   "cell_type": "code",
   "execution_count": 18,
   "metadata": {},
   "outputs": [],
   "source": [
    "df_graph_bar = df_graph_bar.groupby(level=1) \\\n",
    ".apply(lambda x:100 * x / float(x.sum())) \\\n",
    ".reset_index(name='proportion')"
   ]
  },
  {
   "cell_type": "code",
   "execution_count": 20,
   "metadata": {},
   "outputs": [],
   "source": [
    "df_graph_bar = df_graph_bar.pivot(index='HOMOSEX', columns='Before2000', values='proportion')"
   ]
  },
  {
   "cell_type": "code",
   "execution_count": 19,
   "metadata": {},
   "outputs": [
    {
     "data": {
      "image/png": "[encoded data removed]",
      "text/plain": [
       "<Figure size 432x288 with 1 Axes>"
      ]
     },
     "metadata": {
      "needs_background": "light"
     },
     "output_type": "display_data"
    }
   ],
   "source": [
    "ax = df_graph_bar.plot(kind='barh')\n",
    "\n",
    "fmt = '%.0f%%' # Format you want the ticks, e.g. '40%'\n",
    "xticks = mtick.FormatStrFormatter(fmt)\n",
    "ax.xaxis.set_major_formatter(xticks)\n",
    "plt.title('Opinions of Same-Sex Marriage',\n",
    "         fontdict = {'fontsize' : 20})\n",
    "plt.legend(title= 'Time Period')\n",
    "\n",
    "plt.show()"
   ]
  },
  {
   "cell_type": "markdown",
   "metadata": {},
   "source": [
    "### Step Two: Preparing the Data Pipelines\n",
    "\n",
    "In order to work use machine learning models, we have to dummy encode categoricals and keep ordinal values as numbers. Recoding the columns can be mostly automated, as most variables are ordinal. The implementation is done through sklearn pipelines with custom functions."
   ]
  },
  {
   "cell_type": "markdown",
   "metadata": {},
   "source": [
    "__**Current Assumptions**__\n",
    "\n",
    "* Ordinals are scaled, assumed to be continous. This is assumption seems reasonable given most of our ordinal columns have even steps inbetween levels.\n",
    "\n",
    "__**Special Cases**__\n",
    "\n",
    "* helpful,fair,trust,age - 3 to 2\n",
    "* Premarsx, teensex, xmarsex, homosex, bible - 'other' trouble\n",
    "    * 'other' appears to not be entered within the data after 2000\n",
    "* Nominal attributes under 11 - spjewaj, sprel?, relig16?, denom16?, relig?, parborn, race, sector, dipged, pawrkslf, spwrksta, marital, wrkstat, region\n",
    "    * presidental - i.e. vote12,pres12,if12who,...\n",
    "* tax - R pays none<vol.>/4\n",
    "    * 'R pays none<vol.>/4' appears to not be entered within the data after 2000\n",
    "* ordinal w/ large amount of categories - rincom06,rincome,income\n",
    "* Drop: ID, dateinv, cohort: these are primarly for record keeping purposes\n",
    "* 'SPOTHER','OTH16','OTHER' appear to strings"
   ]
  },
  {
   "cell_type": "code",
   "execution_count": 22,
   "metadata": {},
   "outputs": [],
   "source": [
    "from sklearn.pipeline import FeatureUnion, Pipeline\n",
    "from sklearn.preprocessing import StandardScaler, OneHotEncoder\n",
    "from sklearn.impute import SimpleImputer"
   ]
  },
  {
   "cell_type": "code",
   "execution_count": 21,
   "metadata": {},
   "outputs": [],
   "source": [
    "df = pd.read_csv('data/data_clean.csv', low_memory = False)\n",
    "Nominal, Ordinal, Binary = GetColumnNames(df)"
   ]
  },
  {
   "cell_type": "code",
   "execution_count": 23,
   "metadata": {},
   "outputs": [],
   "source": [
    "ordinal_pipeline = Pipeline([\n",
    "    ('selector', DataFrameSelector(Ordinal)),\n",
    "    ('imputer', SimpleImputer(missing_values=np.nan, strategy='most_frequent')),\n",
    "    ('scaler', StandardScaler())\n",
    "])\n",
    "\n",
    "nominal_pipeline = Pipeline([\n",
    "    ('selector', DataFrameSelector(Nominal)),\n",
    "    ('imputer', SimpleImputer(missing_values=np.nan, strategy='most_frequent')),\n",
    "    ('encode', OneHotEncoder(categories='auto'))\n",
    "])\n",
    "\n",
    "binary_pipeline = Pipeline([\n",
    "     ('selector', DataFrameSelector(Binary)),\n",
    "     ('imputer', SimpleImputer(missing_values=np.nan, strategy='most_frequent')),\n",
    "     ('binary', BinaryEncoding())\n",
    "])\n",
    "\n",
    "full_pipeline = FeatureUnion(transformer_list=[\n",
    "    (\"ord_pipe\", ordinal_pipeline),\n",
    "    ('nom_pipe', nominal_pipeline),\n",
    "    ('bin_pipe', binary_pipeline)\n",
    "])"
   ]
  },
  {
   "cell_type": "code",
   "execution_count": 24,
   "metadata": {},
   "outputs": [],
   "source": [
    "# First, let's only include enteries after 1999 and where POLVIEWS is not NA\n",
    "df_filtered = df[(df['YEAR'] > 2000) & ~(df['POLVIEWS'] == np.NaN)]\n",
    "\n",
    "# Second let's use the polviews as the primary variable\n",
    "X_df = df_filtered.drop('POLVIEWS', axis = 1)\n",
    "y = df_filtered['POLVIEWS']"
   ]
  },
  {
   "cell_type": "code",
   "execution_count": 25,
   "metadata": {},
   "outputs": [],
   "source": [
    "X = full_pipeline.fit_transform(X_df)"
   ]
  },
  {
   "cell_type": "code",
   "execution_count": 26,
   "metadata": {},
   "outputs": [
    {
     "data": {
      "text/plain": [
       "(21533, 1816)"
      ]
     },
     "execution_count": 26,
     "metadata": {},
     "output_type": "execute_result"
    }
   ],
   "source": [
    "X.shape"
   ]
  },
  {
   "cell_type": "markdown",
   "metadata": {},
   "source": [
    "### Step Three: Modifying the Pipeline\n",
    "\n",
    "Note: We do not need to do a test train split, as we will use cross validation"
   ]
  },
  {
   "cell_type": "markdown",
   "metadata": {},
   "source": [
    "Here is the shape of our first processed data: \n",
    "![First_Pipeline](data/img/First_Pipeline.png)\n",
    "\n",
    "Unfortunately, the many different categories of some nominal columns casued our new dataframe to have 1819 columns. This seems to be an extremely sparse matrix which will be difficult for most modeling techniques. Perhaps latter, we can return with methods such as neural network to deal with this sparisty. For now, we should drop columns with too many categories. Additionally, we should see if the columns we are using contain too many NaNs to be useful in later runs. We will introduce a new pipeline that operates on the entire dataframe."
   ]
  },
  {
   "cell_type": "code",
   "execution_count": 27,
   "metadata": {},
   "outputs": [
    {
     "data": {
      "text/plain": [
       "MAJOR2     20996\n",
       "HRS2       21122\n",
       "JEW        21164\n",
       "JEW16      21169\n",
       "SPJEWAJ    21532\n",
       "dtype: int64"
      ]
     },
     "execution_count": 27,
     "metadata": {},
     "output_type": "execute_result"
    }
   ],
   "source": [
    "# Summing what is NA. Perhaps we should drop those exceeding a certain threshold if they are not ordinal.\n",
    "df_filtered.isna().sum().sort_values().tail()"
   ]
  },
  {
   "cell_type": "code",
   "execution_count": 29,
   "metadata": {},
   "outputs": [],
   "source": [
    "# We can make a small pipeline to implement changes\n",
    "df_pipeline = Pipeline([\n",
    "    ('drop_categoricals', UniqueThreshold(threshold = 30, ignore_columns=Ordinal)),\n",
    "    \n",
    "    # Note: Threshold means that all columns with a NaN ratio of below 'threshold' will be kept\n",
    "    ('drop_NAs', FilterNAs(threshold = .5))\n",
    "])"
   ]
  },
  {
   "cell_type": "code",
   "execution_count": 30,
   "metadata": {},
   "outputs": [],
   "source": [
    "# First, let's only include enteries after 1999 and where POLVIEWS is not NA\n",
    "df_filtered = df[(df['YEAR'] > 2000) & ~(np.isnan(df['POLVIEWS']))]\n",
    "\n",
    "# Second let's use the polviews as the primary variable\n",
    "X_df = df_filtered.drop('POLVIEWS', axis = 1)\n",
    "y = df_filtered['POLVIEWS']"
   ]
  },
  {
   "cell_type": "code",
   "execution_count": 31,
   "metadata": {},
   "outputs": [],
   "source": [
    "# Putting it through the dataframe pipeline\n",
    "X = df_pipeline.fit_transform(X_df)\n",
    "\n",
    "# Getting the column names\n",
    "Nominal, Ordinal, Binary = GetColumnNames(X)"
   ]
  },
  {
   "cell_type": "code",
   "execution_count": 32,
   "metadata": {},
   "outputs": [],
   "source": [
    "# Due to the way pipelines are implemented, we must respecify our pipelines if an arguement changes\n",
    "\n",
    "ordinal_pipeline = Pipeline([\n",
    "    ('selector', DataFrameSelector(Ordinal)),\n",
    "    ('imputer', SimpleImputer(missing_values=np.nan, strategy='most_frequent')),\n",
    "    ('scaler', StandardScaler())\n",
    "])\n",
    "\n",
    "nominal_pipeline = Pipeline([\n",
    "    ('selector', DataFrameSelectorAndRecode(Nominal,remaper)),\n",
    "    ('imputer', SimpleImputer(missing_values=np.nan, strategy='most_frequent')),\n",
    "    ('encode', OneHotEncoder(categories='auto'))\n",
    "])\n",
    "\n",
    "binary_pipeline = Pipeline([\n",
    "     ('selector', DataFrameSelector(Binary)),\n",
    "     ('imputer', SimpleImputer(missing_values=np.nan, strategy='most_frequent')),\n",
    "     ('binary', BinaryEncoding())\n",
    "])\n",
    "\n",
    "full_pipeline = FeatureUnion(transformer_list=[\n",
    "    (\"ord_pipe\", ordinal_pipeline),\n",
    "    ('nom_pipe', nominal_pipeline),\n",
    "    ('bin_pipe', binary_pipeline)\n",
    "])"
   ]
  },
  {
   "cell_type": "code",
   "execution_count": 33,
   "metadata": {},
   "outputs": [],
   "source": [
    "# Now we put it through the orginal pipeline\n",
    "X = full_pipeline.fit_transform(X)"
   ]
  },
  {
   "cell_type": "code",
   "execution_count": 34,
   "metadata": {},
   "outputs": [
    {
     "data": {
      "text/plain": [
       "(17958, 297)"
      ]
     },
     "execution_count": 34,
     "metadata": {},
     "output_type": "execute_result"
    }
   ],
   "source": [
    "X.shape"
   ]
  },
  {
   "cell_type": "code",
   "execution_count": 35,
   "metadata": {},
   "outputs": [],
   "source": [
    "# Note: The output of a pipeline is a Numpy array, which cannot have column names.\n",
    "# Now that we confirmed the dataframe is of an acceptable size, we can turn the Numpy array back into a DataFrame.\n",
    "\n",
    "ordinal_col_names = list(np.asarray(Ordinal))\n",
    "nominal_col_names = list(np.hstack((nominal_pipeline.named_steps['encode'].categories_)))\n",
    "binary_col_names = list(np.asarray(Binary))\n",
    "attributes = np.concatenate([ordinal_col_names,nominal_col_names,binary_col_names])\n",
    "X = pd.DataFrame(X.toarray(),columns=attributes)"
   ]
  },
  {
   "cell_type": "code",
   "execution_count": 38,
   "metadata": {},
   "outputs": [
    {
     "data": {
      "text/html": [
       "<div>\n",
       "<style scoped>\n",
       "    .dataframe tbody tr th:only-of-type {\n",
       "        vertical-align: middle;\n",
       "    }\n",
       "\n",
       "    .dataframe tbody tr th {\n",
       "        vertical-align: top;\n",
       "    }\n",
       "\n",
       "    .dataframe thead th {\n",
       "        text-align: right;\n",
       "    }\n",
       "</style>\n",
       "<table border=\"1\" class=\"dataframe\">\n",
       "  <thead>\n",
       "    <tr style=\"text-align: right;\">\n",
       "      <th></th>\n",
       "      <th>DEGREE</th>\n",
       "      <th>PADEG</th>\n",
       "      <th>RES16</th>\n",
       "      <th>PARTYID</th>\n",
       "      <th>NATROAD</th>\n",
       "      <th>NATSOC</th>\n",
       "      <th>NATMASS</th>\n",
       "      <th>NATPARK</th>\n",
       "      <th>NATCHLD</th>\n",
       "      <th>NATSCI</th>\n",
       "      <th>...</th>\n",
       "      <th>POLATTAK</th>\n",
       "      <th>FEAR</th>\n",
       "      <th>RACDIF1</th>\n",
       "      <th>RACDIF2</th>\n",
       "      <th>RACDIF3</th>\n",
       "      <th>RACDIF4</th>\n",
       "      <th>REBORN</th>\n",
       "      <th>SAVESOUL</th>\n",
       "      <th>OTHLANG</th>\n",
       "      <th>SEXEDUC</th>\n",
       "    </tr>\n",
       "  </thead>\n",
       "  <tbody>\n",
       "    <tr>\n",
       "      <th>0</th>\n",
       "      <td>-0.509744</td>\n",
       "      <td>-0.112637</td>\n",
       "      <td>-0.376781</td>\n",
       "      <td>1.568079</td>\n",
       "      <td>0.448513</td>\n",
       "      <td>1.010547</td>\n",
       "      <td>0.455748</td>\n",
       "      <td>0.440531</td>\n",
       "      <td>0.882505</td>\n",
       "      <td>0.383215</td>\n",
       "      <td>...</td>\n",
       "      <td>0.0</td>\n",
       "      <td>1.0</td>\n",
       "      <td>1.0</td>\n",
       "      <td>1.0</td>\n",
       "      <td>1.0</td>\n",
       "      <td>1.0</td>\n",
       "      <td>1.0</td>\n",
       "      <td>1.0</td>\n",
       "      <td>1.0</td>\n",
       "      <td>1.0</td>\n",
       "    </tr>\n",
       "    <tr>\n",
       "      <th>1</th>\n",
       "      <td>1.134290</td>\n",
       "      <td>-0.112637</td>\n",
       "      <td>-1.058929</td>\n",
       "      <td>1.079316</td>\n",
       "      <td>0.448513</td>\n",
       "      <td>-0.688807</td>\n",
       "      <td>0.455748</td>\n",
       "      <td>0.440531</td>\n",
       "      <td>0.882505</td>\n",
       "      <td>0.383215</td>\n",
       "      <td>...</td>\n",
       "      <td>0.0</td>\n",
       "      <td>1.0</td>\n",
       "      <td>1.0</td>\n",
       "      <td>1.0</td>\n",
       "      <td>1.0</td>\n",
       "      <td>1.0</td>\n",
       "      <td>1.0</td>\n",
       "      <td>1.0</td>\n",
       "      <td>1.0</td>\n",
       "      <td>0.0</td>\n",
       "    </tr>\n",
       "    <tr>\n",
       "      <th>2</th>\n",
       "      <td>-0.509744</td>\n",
       "      <td>-1.064067</td>\n",
       "      <td>0.305367</td>\n",
       "      <td>0.590554</td>\n",
       "      <td>0.448513</td>\n",
       "      <td>1.010547</td>\n",
       "      <td>-1.193652</td>\n",
       "      <td>0.440531</td>\n",
       "      <td>-0.742100</td>\n",
       "      <td>-1.258431</td>\n",
       "      <td>...</td>\n",
       "      <td>0.0</td>\n",
       "      <td>1.0</td>\n",
       "      <td>0.0</td>\n",
       "      <td>0.0</td>\n",
       "      <td>1.0</td>\n",
       "      <td>1.0</td>\n",
       "      <td>1.0</td>\n",
       "      <td>1.0</td>\n",
       "      <td>1.0</td>\n",
       "      <td>1.0</td>\n",
       "    </tr>\n",
       "    <tr>\n",
       "      <th>3</th>\n",
       "      <td>-0.509744</td>\n",
       "      <td>2.741652</td>\n",
       "      <td>0.305367</td>\n",
       "      <td>1.568079</td>\n",
       "      <td>0.448513</td>\n",
       "      <td>1.010547</td>\n",
       "      <td>-1.193652</td>\n",
       "      <td>0.440531</td>\n",
       "      <td>2.507110</td>\n",
       "      <td>0.383215</td>\n",
       "      <td>...</td>\n",
       "      <td>0.0</td>\n",
       "      <td>1.0</td>\n",
       "      <td>1.0</td>\n",
       "      <td>1.0</td>\n",
       "      <td>1.0</td>\n",
       "      <td>1.0</td>\n",
       "      <td>1.0</td>\n",
       "      <td>1.0</td>\n",
       "      <td>1.0</td>\n",
       "      <td>0.0</td>\n",
       "    </tr>\n",
       "    <tr>\n",
       "      <th>4</th>\n",
       "      <td>-0.509744</td>\n",
       "      <td>-0.112637</td>\n",
       "      <td>-0.376781</td>\n",
       "      <td>1.568079</td>\n",
       "      <td>-1.121852</td>\n",
       "      <td>1.010547</td>\n",
       "      <td>0.455748</td>\n",
       "      <td>0.440531</td>\n",
       "      <td>-0.742100</td>\n",
       "      <td>0.383215</td>\n",
       "      <td>...</td>\n",
       "      <td>0.0</td>\n",
       "      <td>0.0</td>\n",
       "      <td>1.0</td>\n",
       "      <td>1.0</td>\n",
       "      <td>1.0</td>\n",
       "      <td>1.0</td>\n",
       "      <td>1.0</td>\n",
       "      <td>1.0</td>\n",
       "      <td>1.0</td>\n",
       "      <td>0.0</td>\n",
       "    </tr>\n",
       "  </tbody>\n",
       "</table>\n",
       "<p>5 rows × 297 columns</p>\n",
       "</div>"
      ],
      "text/plain": [
       "     DEGREE     PADEG     RES16   PARTYID   NATROAD    NATSOC   NATMASS  \\\n",
       "0 -0.509744 -0.112637 -0.376781  1.568079  0.448513  1.010547  0.455748   \n",
       "1  1.134290 -0.112637 -1.058929  1.079316  0.448513 -0.688807  0.455748   \n",
       "2 -0.509744 -1.064067  0.305367  0.590554  0.448513  1.010547 -1.193652   \n",
       "3 -0.509744  2.741652  0.305367  1.568079  0.448513  1.010547 -1.193652   \n",
       "4 -0.509744 -0.112637 -0.376781  1.568079 -1.121852  1.010547  0.455748   \n",
       "\n",
       "    NATPARK   NATCHLD    NATSCI   ...     POLATTAK  FEAR  RACDIF1  RACDIF2  \\\n",
       "0  0.440531  0.882505  0.383215   ...          0.0   1.0      1.0      1.0   \n",
       "1  0.440531  0.882505  0.383215   ...          0.0   1.0      1.0      1.0   \n",
       "2  0.440531 -0.742100 -1.258431   ...          0.0   1.0      0.0      0.0   \n",
       "3  0.440531  2.507110  0.383215   ...          0.0   1.0      1.0      1.0   \n",
       "4  0.440531 -0.742100  0.383215   ...          0.0   0.0      1.0      1.0   \n",
       "\n",
       "   RACDIF3  RACDIF4  REBORN  SAVESOUL  OTHLANG  SEXEDUC  \n",
       "0      1.0      1.0     1.0       1.0      1.0      1.0  \n",
       "1      1.0      1.0     1.0       1.0      1.0      0.0  \n",
       "2      1.0      1.0     1.0       1.0      1.0      1.0  \n",
       "3      1.0      1.0     1.0       1.0      1.0      0.0  \n",
       "4      1.0      1.0     1.0       1.0      1.0      0.0  \n",
       "\n",
       "[5 rows x 297 columns]"
      ]
     },
     "execution_count": 38,
     "metadata": {},
     "output_type": "execute_result"
    }
   ],
   "source": [
    "X.head()"
   ]
  },
  {
   "cell_type": "code",
   "execution_count": 37,
   "metadata": {},
   "outputs": [
    {
     "data": {
      "text/plain": [
       "1.0    14322\n",
       "0.0     3636\n",
       "Name: FEAR, dtype: int64"
      ]
     },
     "execution_count": 37,
     "metadata": {},
     "output_type": "execute_result"
    }
   ],
   "source": [
    "X.FEAR.value_counts()"
   ]
  },
  {
   "cell_type": "code",
   "execution_count": 36,
   "metadata": {},
   "outputs": [
    {
     "data": {
      "text/plain": [
       "2.0    7262\n",
       "1.0    3636\n",
       "Name: FEAR, dtype: int64"
      ]
     },
     "execution_count": 36,
     "metadata": {},
     "output_type": "execute_result"
    }
   ],
   "source": [
    "df_filtered.FEAR.value_counts()"
   ]
  },
  {
   "cell_type": "markdown",
   "metadata": {},
   "source": [
    "### Data Cleaning Outcomes\n",
    "\n",
    "Now our data is fully clean and ready for machine learning algorithms, however we should be careful of the assumptions that we have made and the final shape of the data. Here is the final shape: \n",
    "\n",
    "![Second_Pipeline](data/img/Second_Pipeline.png)\n",
    "\n",
    "This is much more condensed than before at the cost of losing potentially valueable information\n",
    "\n",
    "\n",
    "\n",
    "Note that we have made a large amount of simple imputations, such as FEAR: ![Imputation](data/img/Imputation.png)\n",
    "\n",
    "This may be adverse in the long-run, as we know that assuming all of those who did not answer choose the most popular option will not have good accuracy. We may have to be more selective in the columns we keep or use more complex imputation methods in the future."
   ]
  },
  {
   "cell_type": "markdown",
   "metadata": {},
   "source": [
    "## Modeling\n",
    "\n",
    "First, we will try to predict POLVIEWS.\n",
    "\n",
    "### Linear Models\n",
    "\n",
    "Linear models are some of the most simple and interpretable models. We start with pure linear regression. Given that we have over 300 variables, we know that many will not be correlated with POLVIEWS. Linear regression tends to be greedy in variable selection, so we used more generalized models for variable selection. \n",
    "\n",
    "After linear regression, we do least angle regression, which is very similar stepwise regression. Then, we use Ridge, Lasso, and ElasticNet in order to lower the amount of 'noise' variables that our basic linear model has. Note that we will use cross validation."
   ]
  },
  {
   "cell_type": "code",
   "execution_count": 109,
   "metadata": {},
   "outputs": [],
   "source": [
    "# We use statsmodels to get the p-values\n",
    "import statsmodels.api as sm\n",
    "from sklearn.linear_model import Lars, Ridge, Lasso, ElasticNet "
   ]
  },
  {
   "cell_type": "code",
   "execution_count": 40,
   "metadata": {},
   "outputs": [],
   "source": [
    "y.reset_index(drop=True, inplace=True)\n",
    "X.reset_index(drop=True, inplace=True)\n",
    "\n",
    "X_model = sm.add_constant(X)"
   ]
  },
  {
   "cell_type": "code",
   "execution_count": 87,
   "metadata": {},
   "outputs": [
    {
     "name": "stdout",
     "output_type": "stream",
     "text": [
      "R-Sqaured: 0.36480455778110965\n"
     ]
    }
   ],
   "source": [
    "model = sm.OLS(y,X_model)\n",
    "model = model.fit()\n",
    "# model.summary() Long Output\n",
    "print('R-Sqaured:', model.rsquared)"
   ]
  },
  {
   "cell_type": "code",
   "execution_count": 105,
   "metadata": {},
   "outputs": [
    {
     "data": {
      "text/html": [
       "<div>\n",
       "<style scoped>\n",
       "    .dataframe tbody tr th:only-of-type {\n",
       "        vertical-align: middle;\n",
       "    }\n",
       "\n",
       "    .dataframe tbody tr th {\n",
       "        vertical-align: top;\n",
       "    }\n",
       "\n",
       "    .dataframe thead th {\n",
       "        text-align: right;\n",
       "    }\n",
       "</style>\n",
       "<table border=\"1\" class=\"dataframe\">\n",
       "  <thead>\n",
       "    <tr style=\"text-align: right;\">\n",
       "      <th></th>\n",
       "      <th>Beta</th>\n",
       "      <th>P-Value</th>\n",
       "    </tr>\n",
       "  </thead>\n",
       "  <tbody>\n",
       "    <tr>\n",
       "      <th>PARTYID</th>\n",
       "      <td>0.413916</td>\n",
       "      <td>0.000000e+00</td>\n",
       "    </tr>\n",
       "    <tr>\n",
       "      <th>const</th>\n",
       "      <td>1.339879</td>\n",
       "      <td>1.247190e-92</td>\n",
       "    </tr>\n",
       "    <tr>\n",
       "      <th>Someone else</th>\n",
       "      <td>0.665653</td>\n",
       "      <td>5.609571e-83</td>\n",
       "    </tr>\n",
       "    <tr>\n",
       "      <th>Self-employed</th>\n",
       "      <td>0.674226</td>\n",
       "      <td>8.183823e-82</td>\n",
       "    </tr>\n",
       "    <tr>\n",
       "      <th>Black</th>\n",
       "      <td>0.554988</td>\n",
       "      <td>1.554840e-63</td>\n",
       "    </tr>\n",
       "    <tr>\n",
       "      <th>Married</th>\n",
       "      <td>0.326609</td>\n",
       "      <td>1.664228e-46</td>\n",
       "    </tr>\n",
       "    <tr>\n",
       "      <th>White</th>\n",
       "      <td>0.392633</td>\n",
       "      <td>7.442203e-44</td>\n",
       "    </tr>\n",
       "    <tr>\n",
       "      <th>Other</th>\n",
       "      <td>0.392258</td>\n",
       "      <td>1.565614e-33</td>\n",
       "    </tr>\n",
       "    <tr>\n",
       "      <th>Divorced</th>\n",
       "      <td>0.291780</td>\n",
       "      <td>8.230556e-30</td>\n",
       "    </tr>\n",
       "    <tr>\n",
       "      <th>South atlantic</th>\n",
       "      <td>0.209183</td>\n",
       "      <td>1.174965e-22</td>\n",
       "    </tr>\n",
       "    <tr>\n",
       "      <th>Never married</th>\n",
       "      <td>0.252002</td>\n",
       "      <td>2.002111e-22</td>\n",
       "    </tr>\n",
       "    <tr>\n",
       "      <th>EQWLTH</th>\n",
       "      <td>0.098614</td>\n",
       "      <td>7.250437e-15</td>\n",
       "    </tr>\n",
       "    <tr>\n",
       "      <th>CAPPUN</th>\n",
       "      <td>-0.166182</td>\n",
       "      <td>8.617174e-15</td>\n",
       "    </tr>\n",
       "    <tr>\n",
       "      <th>Widowed</th>\n",
       "      <td>0.235985</td>\n",
       "      <td>1.245616e-12</td>\n",
       "    </tr>\n",
       "    <tr>\n",
       "      <th>HOMOSEX</th>\n",
       "      <td>-0.086104</td>\n",
       "      <td>1.015316e-11</td>\n",
       "    </tr>\n",
       "    <tr>\n",
       "      <th>Keeping house</th>\n",
       "      <td>0.216388</td>\n",
       "      <td>1.054288e-11</td>\n",
       "    </tr>\n",
       "    <tr>\n",
       "      <th>CONLABOR</th>\n",
       "      <td>0.065774</td>\n",
       "      <td>1.474535e-11</td>\n",
       "    </tr>\n",
       "    <tr>\n",
       "      <th>GRASS</th>\n",
       "      <td>0.155919</td>\n",
       "      <td>1.860556e-10</td>\n",
       "    </tr>\n",
       "    <tr>\n",
       "      <th>W. sou. central</th>\n",
       "      <td>0.171333</td>\n",
       "      <td>3.856068e-10</td>\n",
       "    </tr>\n",
       "    <tr>\n",
       "      <th>Retired</th>\n",
       "      <td>0.205199</td>\n",
       "      <td>3.899619e-10</td>\n",
       "    </tr>\n",
       "  </tbody>\n",
       "</table>\n",
       "</div>"
      ],
      "text/plain": [
       "                     Beta       P-Value\n",
       "PARTYID          0.413916  0.000000e+00\n",
       "const            1.339879  1.247190e-92\n",
       "Someone else     0.665653  5.609571e-83\n",
       "Self-employed    0.674226  8.183823e-82\n",
       "Black            0.554988  1.554840e-63\n",
       "Married          0.326609  1.664228e-46\n",
       "White            0.392633  7.442203e-44\n",
       "Other            0.392258  1.565614e-33\n",
       "Divorced         0.291780  8.230556e-30\n",
       "South atlantic   0.209183  1.174965e-22\n",
       "Never married    0.252002  2.002111e-22\n",
       "EQWLTH           0.098614  7.250437e-15\n",
       "CAPPUN          -0.166182  8.617174e-15\n",
       "Widowed          0.235985  1.245616e-12\n",
       "HOMOSEX         -0.086104  1.015316e-11\n",
       "Keeping house    0.216388  1.054288e-11\n",
       "CONLABOR         0.065774  1.474535e-11\n",
       "GRASS            0.155919  1.860556e-10\n",
       "W. sou. central  0.171333  3.856068e-10\n",
       "Retired          0.205199  3.899619e-10"
      ]
     },
     "execution_count": 105,
     "metadata": {},
     "output_type": "execute_result"
    }
   ],
   "source": [
    "model_summary = pd.DataFrame({'Beta':model.params,'P-Value':model.pvalues})\n",
    "model_summary.sort_values('P-Value', inplace=True)\n",
    "\n",
    "# The lowest 20 variables in terms of p-value.\n",
    "model_summary[model_summary['P-Value'] <= .05][:20]"
   ]
  },
  {
   "cell_type": "code",
   "execution_count": 42,
   "metadata": {},
   "outputs": [
    {
     "data": {
      "image/png": "[encoded data removed]",
      "text/plain": [
       "<Figure size 432x288 with 1 Axes>"
      ]
     },
     "metadata": {
      "needs_background": "light"
     },
     "output_type": "display_data"
    }
   ],
   "source": [
    "fig, ax = plt.subplots()\n",
    "ax.hist(model.resid, bins=30)\n",
    "ax.set_title('Error Distribution')\n",
    "plt.show()"
   ]
  },
  {
   "cell_type": "code",
   "execution_count": 106,
   "metadata": {},
   "outputs": [
    {
     "data": {
      "image/png": "[encoded data removed]",
      "text/plain": [
       "<Figure size 432x288 with 1 Axes>"
      ]
     },
     "metadata": {
      "needs_background": "light"
     },
     "output_type": "display_data"
    }
   ],
   "source": [
    "fig, ax = plt.subplots()\n",
    "ax.scatter(model.fittedvalues,model.resid)\n",
    "ax.set_xlabel('Fitted')\n",
    "ax.set_ylabel('Residual')\n",
    "ax.set_title('Residuals vs Fitted')\n",
    "plt.show()"
   ]
  },
  {
   "cell_type": "markdown",
   "metadata": {},
   "source": [
    "#### Linear Model Overview\n",
    "\n",
    "The R-Sqaured for the linear model is .364 on the training data. \n",
    "\n",
    "While our linear model does tell us some interesting patterns, we should take a look at the assumptions that were violated in the model. We can see that our error is normally distributed with a mean of zero, but we do not have homoscedasticity in our errors. There appears to be systematic bias, and the relationship between the target variable and the predictors is likely not linear. Also, due to the way we encoded the dummy variables, there is innate multicollinearity within the data that the linear model does not solve. Finally, one could also say that using the 'PARTYID' variable should be removed when predicting due to the innate correlianity with 'POLVIEWS'. The bias found in the Residuals vs Fitted chart also calls into question whether we should use the target variable as a continious variable, or change it to categorical. We can experiment with different models later.\n",
    "\n",
    "Looking past the violated assumptions, we can generate some hypotheses about the data. While we will not have a lot of confidence with these hypotheses, they can set the baseline for hypotheses in the future. The main hypothesis is that: While holding everything else equal the following variables are significant predictors of a person's political status:\n",
    "* WRKSLF (Respondent self-emp or works for somebody)\n",
    "* RACE (Black, White, or Other)\n",
    "* MARITAL (Marital Status)\n",
    "* EQUAL (Should government try to equalize wealth gap?)\n",
    "* CAPPUN (Favor or Oppose death penalty)\n",
    "* CONLABOR (Does respondent have confidence in the people in the leaders of industry)\n",
    "\n",
    "In terms of tying this into our problem of advising a politician during a run for office, we could derive great value from proving this hypothesis. We could see that a liberal type of candidate could find great support with other liberals if she/he strong opposes income inequality and and the death penalty at the cost of losing popularity with moderates and conservatives. If one were running a presidential campiagn, one could emphasize these typically liberal views during the run to get onto the presidential ticket and then shift to more moderate views after to appease the moderates. One can also use these relationships as a tool to segregate liberals, conservatives, and moderates in targeted advertising campaigns. "
   ]
  },
  {
   "cell_type": "code",
   "execution_count": 124,
   "metadata": {},
   "outputs": [
    {
     "name": "stdout",
     "output_type": "stream",
     "text": [
      "Lars Cross Validation: [0.0168391  0.01294081 0.02010762 0.01964518 0.02150143]\n",
      "Ridge Cross Validation: [0.28669407 0.281215   0.37015846 0.37607555 0.36890369]\n",
      "Lasso Cross Validation: [-4.30778227e-05 -2.30760177e-03 -2.26370785e-05 -1.60134785e-03\n",
      " -3.25350249e-05]\n",
      "ElasticNet Cross Validation: [0.05807953 0.05448864 0.05535677 0.05388694 0.05326197]\n"
     ]
    }
   ],
   "source": [
    "# Now we can test out the more advanced regression models\n",
    "\n",
    "test_models = [Lars(eps=15), Ridge(), Lasso(max_iter=15), ElasticNet()]\n",
    "test_model_names = ['Lars','Ridge','Lasso','ElasticNet']\n",
    "QuickModel(test_models,test_model_names,X,y)"
   ]
  },
  {
   "cell_type": "code",
   "execution_count": null,
   "metadata": {},
   "outputs": [],
   "source": [
    "# sklearn.neighbors.KNeighborsClassifier"
   ]
  },
  {
   "cell_type": "code",
   "execution_count": null,
   "metadata": {},
   "outputs": [],
   "source": []
  }
 ],
 "metadata": {
  "kernelspec": {
   "display_name": "Python 3",
   "language": "python",
   "name": "python3"
  },
  "language_info": {
   "codemirror_mode": {
    "name": "ipython",
    "version": 3
   },
   "file_extension": ".py",
   "mimetype": "text/x-python",
   "name": "python",
   "nbconvert_exporter": "python",
   "pygments_lexer": "ipython3",
   "version": "3.7.0"
  }
 },
 "nbformat": 4,
 "nbformat_minor": 2
}
